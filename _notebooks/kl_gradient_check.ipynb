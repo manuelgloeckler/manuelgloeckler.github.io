{
 "cells": [
  {
   "cell_type": "code",
   "execution_count": 73,
   "metadata": {},
   "outputs": [],
   "source": [
    "import torch \n",
    "from torch.distributions import Normal\n",
    "import matplotlib.pyplot as plt"
   ]
  },
  {
   "cell_type": "code",
   "execution_count": 244,
   "metadata": {},
   "outputs": [],
   "source": [
    "def fisher_info(p):\n",
    "    var = p.variance\n",
    "    F = torch.eye(2)\n",
    "    F[0,0] = 1/var \n",
    "    F[1,1] = 2/var\n",
    "    return F\n",
    "\n",
    "def fisher_info_mc(theta_0, N=100000):\n",
    "    theta_0_help = theta_0.clone().repeat(N,1).requires_grad_(True)\n",
    "    prob = p(theta_0_help)\n",
    "    samples = prob.sample((1,))\n",
    "    log_probs = prob.log_prob(samples)\n",
    "    score = torch.autograd.grad(log_probs.sum(), theta_0_help)[0]\n",
    "    return torch.mean(score.unsqueeze(2)@score.unsqueeze(1), axis=0)"
   ]
  },
  {
   "cell_type": "code",
   "execution_count": 245,
   "metadata": {},
   "outputs": [
    {
     "data": {
      "text/plain": [
       "tensor([[ 0.0624, -0.0011],\n",
       "        [-0.0011,  0.1242]])"
      ]
     },
     "execution_count": 245,
     "metadata": {},
     "output_type": "execute_result"
    }
   ],
   "source": [
    "theta_0 = torch.tensor([[0., 4.]])\n",
    "fisher_info_mc(theta_0)"
   ]
  },
  {
   "cell_type": "code",
   "execution_count": 246,
   "metadata": {},
   "outputs": [
    {
     "data": {
      "text/plain": [
       "tensor([[0.0625, 0.0000],\n",
       "        [0.0000, 0.1250]])"
      ]
     },
     "execution_count": 246,
     "metadata": {},
     "output_type": "execute_result"
    }
   ],
   "source": [
    "fisher_info(p(theta_0))"
   ]
  },
  {
   "cell_type": "code",
   "execution_count": 321,
   "metadata": {},
   "outputs": [],
   "source": [
    "def p(theta):\n",
    "    return Normal(theta[:,0], theta[:,1].abs())"
   ]
  },
  {
   "cell_type": "code",
   "execution_count": 322,
   "metadata": {},
   "outputs": [],
   "source": [
    "theta_0 = torch.tensor([[0., 4.]])\n",
    "\n",
    "s = 0.1\n",
    "perturbed = theta_0 + torch.randn(1000000, 2)*s"
   ]
  },
  {
   "cell_type": "code",
   "execution_count": 323,
   "metadata": {},
   "outputs": [],
   "source": [
    "def eval_kl(thetas, theta_0):\n",
    "    p1 = p(theta_0)\n",
    "    p2 = p(thetas)\n",
    "    return torch.distributions.kl_divergence(p1, p2)\n"
   ]
  },
  {
   "cell_type": "code",
   "execution_count": 324,
   "metadata": {},
   "outputs": [
    {
     "data": {
      "text/plain": [
       "tensor(0.0009)"
      ]
     },
     "execution_count": 324,
     "metadata": {},
     "output_type": "execute_result"
    }
   ],
   "source": [
    "m = eval_kl(perturbed, theta_0).mean()\n",
    "m"
   ]
  },
  {
   "cell_type": "code",
   "execution_count": 325,
   "metadata": {},
   "outputs": [
    {
     "data": {
      "text/plain": [
       "tensor(0.0019)"
      ]
     },
     "execution_count": 325,
     "metadata": {},
     "output_type": "execute_result"
    }
   ],
   "source": [
    "s**2*torch.trace(fisher_info(p(theta_0)))"
   ]
  },
  {
   "cell_type": "code",
   "execution_count": 467,
   "metadata": {},
   "outputs": [],
   "source": [
    "theta_0 = torch.tensor([[0., 5.]])\n",
    "scales = torch.linspace(0.001, 1, 1000)\n",
    "kls_mean = []\n",
    "kls_mean_estimate = []\n",
    "\n",
    "for s in scales:\n",
    "    perturbed = theta_0 + torch.randn(10000, 2)*s\n",
    "    kls_mean.append(eval_kl(perturbed, theta_0).mean())\n",
    "    kls_mean_estimate.append(0.5*s**2*torch.trace(fisher_info(p(theta_0))))"
   ]
  },
  {
   "cell_type": "code",
   "execution_count": 469,
   "metadata": {},
   "outputs": [
    {
     "data": {
      "text/plain": [
       "Text(0.5, 0, 'Variance of $\\\\delta$')"
      ]
     },
     "execution_count": 469,
     "metadata": {},
     "output_type": "execute_result"
    },
    {
     "data": {
      "image/png": "[encoded data removed]",
      "text/plain": [
       "<Figure size 432x288 with 1 Axes>"
      ]
     },
     "metadata": {
      "needs_background": "light"
     },
     "output_type": "display_data"
    }
   ],
   "source": [
    "plt.plot(scales**2, kls_mean)\n",
    "plt.plot(scales**2, kls_mean_estimate)\n",
    "plt.ylim(0,0.1)\n",
    "plt.legend([\"MC approximation\", \"Taylor\"])\n",
    "plt.ylabel(r\"$D_{KL}(p_\\theta (x)|| p_{\\theta + \\delta}(x))$\")\n",
    "plt.xlabel(\"Variance of $\\delta$\")"
   ]
  },
  {
   "cell_type": "code",
   "execution_count": null,
   "metadata": {},
   "outputs": [],
   "source": [
    "# So the taylor approximations is actually pretty good in this Gaussian case..."
   ]
  },
  {
   "cell_type": "code",
   "execution_count": 750,
   "metadata": {},
   "outputs": [],
   "source": [
    "A = torch.randn((2,2))\n",
    "def f(x):\n",
    "    y = (A@x.T).T\n",
    "    y[:,1] = y[:,1].exp()\n",
    "    return y\n"
   ]
  },
  {
   "cell_type": "code",
   "execution_count": 660,
   "metadata": {},
   "outputs": [],
   "source": [
    "f = torch.nn.Sequential(torch.nn.Linear(2, 10), torch.nn.ReLU(), torch.nn.Linear(10, 10), torch.nn.Linear(10, 2), torch.nn.Sigmoid())"
   ]
  },
  {
   "cell_type": "code",
   "execution_count": 751,
   "metadata": {},
   "outputs": [],
   "source": [
    "def batch_jacobian(func, x, create_graph=False):\n",
    "  # x in shape (Batch, Length)\n",
    "  def _func_sum(x):\n",
    "    return func(x).sum(dim=0)\n",
    "  return torch.autograd.functional.jacobian(_func_sum, x, create_graph=create_graph).permute(1,0,2)"
   ]
  },
  {
   "cell_type": "code",
   "execution_count": 662,
   "metadata": {},
   "outputs": [],
   "source": [
    "x_0 = torch.tensor([[2.,2.]])\n",
    "s = 0.1\n",
    "perturbed = x_0 + torch.randn(1000000, 2)*s"
   ]
  },
  {
   "cell_type": "code",
   "execution_count": 663,
   "metadata": {},
   "outputs": [
    {
     "data": {
      "text/plain": [
       "tensor(5.0363e-06, grad_fn=<MeanBackward0>)"
      ]
     },
     "execution_count": 663,
     "metadata": {},
     "output_type": "execute_result"
    }
   ],
   "source": [
    "m = eval_kl(f(perturbed), f(x_0)).mean()\n",
    "m"
   ]
  },
  {
   "cell_type": "code",
   "execution_count": 752,
   "metadata": {},
   "outputs": [],
   "source": [
    "J = batch_jacobian(f, x_0)[0]"
   ]
  },
  {
   "cell_type": "code",
   "execution_count": 665,
   "metadata": {},
   "outputs": [
    {
     "data": {
      "text/plain": [
       "tensor([[ 7.0413e-07, -1.0165e-05],\n",
       "        [-1.0165e-05,  1.4733e-04]])"
      ]
     },
     "execution_count": 665,
     "metadata": {},
     "output_type": "execute_result"
    }
   ],
   "source": [
    "J@J.T"
   ]
  },
  {
   "cell_type": "code",
   "execution_count": 666,
   "metadata": {},
   "outputs": [
    {
     "data": {
      "text/plain": [
       "tensor(5.0452e-06, grad_fn=<MulBackward0>)"
      ]
     },
     "execution_count": 666,
     "metadata": {},
     "output_type": "execute_result"
    }
   ],
   "source": [
    "0.5*s**2*torch.trace(fisher_info(p(f(x_0)))@J@J.T)"
   ]
  },
  {
   "cell_type": "code",
   "execution_count": 667,
   "metadata": {},
   "outputs": [
    {
     "data": {
      "text/plain": [
       "tensor(0.0512, grad_fn=<MulBackward0>)"
      ]
     },
     "execution_count": 667,
     "metadata": {},
     "output_type": "execute_result"
    }
   ],
   "source": [
    "0.5*s**2*torch.trace(fisher_info(p(f(x_0))))"
   ]
  },
  {
   "cell_type": "code",
   "execution_count": 668,
   "metadata": {},
   "outputs": [],
   "source": [
    "x_0 = torch.tensor([[2.,2.]])\n",
    "scales = torch.linspace(0.001, 1, 1000)\n",
    "kls_mean = []\n",
    "kls_mean_estimate = []\n",
    "J = batch_jacobian(f, x_0)[0]\n",
    "for s in scales:\n",
    "    perturbed = x_0 + torch.randn(100000, 2)*s\n",
    "    theta_0 = f(x_0)\n",
    "    perturbed = f(perturbed)\n",
    "    kls_mean.append(eval_kl(perturbed, theta_0).mean().detach())\n",
    "    kls_mean_estimate.append(0.5*s**2*torch.trace(fisher_info(p(theta_0))@J@J.T).detach())"
   ]
  },
  {
   "cell_type": "code",
   "execution_count": 669,
   "metadata": {},
   "outputs": [
    {
     "data": {
      "text/plain": [
       "Text(0.5, 0, 'Variance of $\\\\delta$')"
      ]
     },
     "execution_count": 669,
     "metadata": {},
     "output_type": "execute_result"
    },
    {
     "data": {
      "image/png": "[encoded data removed]",
      "text/plain": [
       "<Figure size 432x288 with 1 Axes>"
      ]
     },
     "metadata": {
      "needs_background": "light"
     },
     "output_type": "display_data"
    }
   ],
   "source": [
    "plt.plot(scales**2, kls_mean)\n",
    "plt.plot(scales**2, kls_mean_estimate)\n",
    "plt.legend([\"MC approximation\", \"Taylor\"])\n",
    "plt.ylabel(r\"$D_{KL}(p_\\theta (x)|| p_{\\theta + \\delta}(x))$\")\n",
    "plt.xlabel(\"Variance of $\\delta$\")"
   ]
  },
  {
   "cell_type": "code",
   "execution_count": 779,
   "metadata": {},
   "outputs": [],
   "source": [
    "vs = torch.randn((10000, 2))\n",
    "vs /= torch.linalg.norm(vs, dim=0)\n"
   ]
  },
  {
   "cell_type": "code",
   "execution_count": 792,
   "metadata": {},
   "outputs": [
    {
     "data": {
      "text/plain": [
       "tensor([[ 1.0000e-04, -5.1312e-07],\n",
       "        [-5.1312e-07,  1.0000e-04]])"
      ]
     },
     "execution_count": 792,
     "metadata": {},
     "output_type": "execute_result"
    }
   ],
   "source": [
    "(vs.unsqueeze(2)@vs.unsqueeze(1)).mean(0)"
   ]
  },
  {
   "cell_type": "code",
   "execution_count": 757,
   "metadata": {},
   "outputs": [],
   "source": [
    "eps = 0.00001\n",
    "directional_derivative = (f(x_0 + eps*v) - f(x_0))/eps"
   ]
  },
  {
   "cell_type": "code",
   "execution_count": 760,
   "metadata": {},
   "outputs": [
    {
     "data": {
      "text/plain": [
       "tensor([[ 1.1563, -0.0864]])"
      ]
     },
     "execution_count": 760,
     "metadata": {},
     "output_type": "execute_result"
    }
   ],
   "source": [
    "directional_derivative"
   ]
  },
  {
   "cell_type": "code",
   "execution_count": 761,
   "metadata": {},
   "outputs": [
    {
     "data": {
      "text/plain": [
       "tensor([[ 1.1506],\n",
       "        [-0.0871]])"
      ]
     },
     "execution_count": 761,
     "metadata": {},
     "output_type": "execute_result"
    }
   ],
   "source": [
    "J@v.T"
   ]
  }
 ],
 "metadata": {
  "interpreter": {
   "hash": "19d1d53a962d236aa061289c2ac16dc8e6d9648c89fe79f459ae9a3493bc67b4"
  },
  "kernelspec": {
   "display_name": "Python 3.9.5 ('base')",
   "language": "python",
   "name": "python3"
  },
  "language_info": {
   "codemirror_mode": {
    "name": "ipython",
    "version": 3
   },
   "file_extension": ".py",
   "mimetype": "text/x-python",
   "name": "python",
   "nbconvert_exporter": "python",
   "pygments_lexer": "ipython3",
   "version": "3.9.5"
  },
  "orig_nbformat": 4
 },
 "nbformat": 4,
 "nbformat_minor": 2
}
