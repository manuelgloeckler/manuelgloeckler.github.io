{
 "cells": [
  {
   "cell_type": "code",
   "execution_count": 1,
   "metadata": {},
   "outputs": [],
   "source": [
    "from torchvision.utils import make_grid as make_image_grid\n",
    "\n",
    "import torch \n",
    "from torch import nn\n",
    "from torchvision.datasets import MNIST\n",
    "import torchvision.transforms as transforms\n",
    "from torch.utils.data.dataloader import DataLoader\n",
    "from torch.autograd import Variable\n",
    "\n",
    "import matplotlib.pyplot as plt\n",
    "import numpy as np\n",
    "from scipy.stats import norm"
   ]
  },
  {
   "cell_type": "code",
   "execution_count": 4,
   "metadata": {},
   "outputs": [],
   "source": [
    "trainloader = DataLoader(\n",
    "    MNIST(root='./data',train=True,download=True,transform=transforms.ToTensor()),\n",
    "    batch_size=256,shuffle=True)\n",
    "testloader = DataLoader(\n",
    "    MNIST(root='./data',train=False,download=True,transform=transforms.ToTensor()),\n",
    "    batch_size=256,shuffle=True)"
   ]
  },
  {
   "cell_type": "code",
   "execution_count": 5,
   "metadata": {},
   "outputs": [
    {
     "data": {
      "text/plain": [
       "<matplotlib.image.AxesImage at 0x2ae3d919e80>"
      ]
     },
     "execution_count": 5,
     "metadata": {},
     "output_type": "execute_result"
    },
    {
     "data": {
      "image/png": "[encoded data removed]",
      "text/plain": [
       "<Figure size 432x288 with 1 Axes>"
      ]
     },
     "metadata": {
      "needs_background": "light"
     },
     "output_type": "display_data"
    }
   ],
   "source": [
    "images,_ = iter(testloader).next()\n",
    "images = images[:16]\n",
    "plt.imshow(np.transpose(make_image_grid(images).numpy(), (1,2,0)))"
   ]
  },
  {
   "cell_type": "code",
   "execution_count": 6,
   "metadata": {},
   "outputs": [],
   "source": [
    "class VAE(nn.Module):\n",
    "    def __init__(self,input_shape, latent_dim=2,hidden_dim=500):\n",
    "        super(VAE,self).__init__()\n",
    "        self.input_shape = input_shape\n",
    "        self.input_dim = int(input_shape[0]*input_shape[1])\n",
    "        self.fc_e = nn.Sequential(nn.Linear(self.input_dim,hidden_dim),\n",
    "                                  nn.ReLU(),\n",
    "                                  nn.Linear(hidden_dim, hidden_dim),\n",
    "                                  nn.ReLU(),\n",
    "                                  nn.Linear(hidden_dim, hidden_dim),\n",
    "                                  nn.ReLU())\n",
    "        self.fc_mean = nn.Linear(hidden_dim,latent_dim)\n",
    "        self.fc_logvar = nn.Linear(hidden_dim,latent_dim)\n",
    "        self.fc_d = nn.Sequential(nn.Linear(latent_dim,hidden_dim),\n",
    "                                  nn.ReLU(),\n",
    "                                  nn.Linear(hidden_dim, hidden_dim),\n",
    "                                  nn.ReLU(),\n",
    "                                  nn.Linear(hidden_dim, hidden_dim),\n",
    "                                  nn.ReLU(),\n",
    "                                  nn.Linear(hidden_dim,self.input_dim),\n",
    "                                  nn.Sigmoid())\n",
    "            \n",
    "    def encoder(self,x_in):\n",
    "        x = self.fc_e(x_in.view(-1,self.input_dim))\n",
    "        mean = self.fc_mean(x)\n",
    "        logvar = self.fc_logvar(x)\n",
    "        return mean, logvar\n",
    "    \n",
    "    def decoder(self,z):\n",
    "        x_out = self.fc_d(z)\n",
    "        return x_out.view(-1,1,*self.input_shape)\n",
    "    \n",
    "    def sample_normal(self,mean,logvar):\n",
    "        sd = torch.exp(logvar*0.5)\n",
    "        e = torch.tensor(torch.randn(sd.size()))\n",
    "        z = e.mul(sd).add_(mean)\n",
    "        return z\n",
    "    \n",
    "    def forward(self,x_in):\n",
    "        z_mean, z_logvar = self.encoder(x_in)\n",
    "        z = self.sample_normal(z_mean,z_logvar)\n",
    "        x_out = self.decoder(z)\n",
    "        return x_out, z_mean, z_logvar\n",
    "\n",
    "model = VAE((28,28), latent_dim=2,hidden_dim=256)"
   ]
  },
  {
   "cell_type": "code",
   "execution_count": 7,
   "metadata": {},
   "outputs": [],
   "source": [
    "def nll_gauss(mean, std, x, axis=None):\n",
    "    \"\"\"Gaussian log likelihood\"\"\"\n",
    "    var = std**2\n",
    "    const = torch.log(torch.tensor(2*np.pi))*torch.ones(x.shape)\n",
    "    ll = const - 0.5*torch.log(var) - 0.5*torch.div((mean-x)**2,var)\n",
    "    return -torch.sum(ll) if axis is None else -torch.sum(ll, axis=axis) \n",
    "def elbo(x, z_mu, z_logvar, out_mean, sigma=0.1,beta=1.0):\n",
    "    out_std = torch.ones_like(out_mean) *sigma\n",
    "    elbo_KL = beta*(-0.5*torch.sum(1+ z_logvar - (z_mu**2) - torch.exp(z_logvar)))\n",
    "    elbo_nll = nll_gauss(out_mean, out_std, x)\n",
    "    return (elbo_nll + elbo_KL)/x.size(0)"
   ]
  },
  {
   "cell_type": "code",
   "execution_count": null,
   "metadata": {},
   "outputs": [],
   "source": [
    "optimizer = torch.optim.Adam(model.parameters())\n",
    "epochs = 4\n",
    "elbo_list = []\n",
    "for epoch in range(epochs):\n",
    "    for images,_ in trainloader:\n",
    "        x_in = images\n",
    "        optimizer.zero_grad()\n",
    "        x_out_mean, z_mu, z_logvar = model(x_in)\n",
    "        loss = elbo(x_in, z_mu, z_logvar, x_out_mean)\n",
    "        loss.backward() \n",
    "        optimizer.step()\n",
    "        elbo_list.append(loss.detach().numpy())"
   ]
  }
 ],
 "metadata": {
  "interpreter": {
   "hash": "19d1d53a962d236aa061289c2ac16dc8e6d9648c89fe79f459ae9a3493bc67b4"
  },
  "kernelspec": {
   "display_name": "Python 3 (ipykernel)",
   "language": "python",
   "name": "python3"
  },
  "language_info": {
   "codemirror_mode": {
    "name": "ipython",
    "version": 3
   },
   "file_extension": ".py",
   "mimetype": "text/x-python",
   "name": "python",
   "nbconvert_exporter": "python",
   "pygments_lexer": "ipython3",
   "version": "3.9.5"
  }
 },
 "nbformat": 4,
 "nbformat_minor": 2
}
