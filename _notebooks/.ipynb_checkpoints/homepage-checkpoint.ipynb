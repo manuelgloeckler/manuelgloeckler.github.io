{
 "cells": [
  {
   "cell_type": "code",
   "execution_count": null,
   "metadata": {},
   "outputs": [],
   "source": [
    "%matplotlib notebook\n",
    "import numpy as np\n",
    "from matplotlib import pyplot as plt\n",
    "from matplotlib import animation\n",
    "\n",
    "# First set up the figure, the axis, and the plot element we want to animate\n",
    "fig = plt.figure(figsize=(50,5))\n",
    "ax = plt.axes(xlim=(0, 10))\n",
    "t = torch.linspace(0,10,1000)\n",
    "\n",
    "# initialization function: plot the background of each frame\n",
    "def init():\n",
    "    line1, = plt.plot(t, y[:1000,:,0].squeeze().detach(), color=\"C0\")\n",
    "    line2, = plt.plot(t, y[:1000,:,1].squeeze().detach(), color=\"C1\")\n",
    "    plt.axis(\"off\")\n",
    "    return line1, line2,\n",
    "\n",
    "# animation function.  This is called sequentially\n",
    "def animate(i):\n",
    "    line1, = plt.plot(t, y[i+1000:i+1000,:,0].squeeze().detach())\n",
    "    line2, = plt.plot(t, y[i+1000:i+1000,:, 1].squeeze().detach())\n",
    "    plt.axis(\"off\")\n",
    "    return line1, line2\n",
    "\n",
    "# call the animator.  blit=True means only re-draw the parts that have changed.\n",
    "anim = animation.FuncAnimation(fig, animate, init_func=init,\n",
    "                               frames=200, interval=20, blit=True)\n",
    "\n",
    "# save the animation as an mp4.  This requires ffmpeg or mencoder to be\n",
    "# installed.  The extra_args ensure that the x264 codec is used, so that\n",
    "# the video can be embedded in html5.  You may need to adjust this for\n",
    "# your system: for more information, see\n",
    "# http://matplotlib.sourceforge.net/api/animation_api.html\n",
    "#anim.save('basic_animation.mp4', fps=30, extra_args=['-vcodec', 'libx264'])\n"
   ]
  },
  {
   "cell_type": "code",
   "execution_count": 3,
   "metadata": {},
   "outputs": [],
   "source": [
    "from torchsde import sdeint\n",
    "import torch "
   ]
  },
  {
   "cell_type": "code",
   "execution_count": 4,
   "metadata": {},
   "outputs": [],
   "source": [
    "class SDE(torch.nn.Module):\n",
    "    noise_type = 'general'\n",
    "    sde_type = 'ito'\n",
    "\n",
    "    def __init__(self):\n",
    "        super().__init__()\n",
    "        self.alpha = 1.\n",
    "        self.beta =  0.1\n",
    "        self.gamma = 0.6\n",
    "        self.delta = 0.1\n",
    "\n",
    "    # Drift\n",
    "    def f(self, t, xy):\n",
    "        x = xy[...,0].reshape(-1,1)\n",
    "        mask = x <= 0\n",
    "        x[mask]=0\n",
    "        y = xy[...,1].reshape(-1,1)\n",
    "        mask = y <= 0\n",
    "        y[mask] = 0\n",
    "        x_new =  self.alpha*x - self.beta *x*y\n",
    "        y_new = self.delta*x*y - self.gamma*y\n",
    "        return torch.hstack([x_new,y_new])\n",
    "\n",
    "    # Diffusion\n",
    "    def g(self, t, xy):\n",
    "        return torch.eye(2).repeat(xy.shape[0],1,1)*2"
   ]
  },
  {
   "cell_type": "code",
   "execution_count": null,
   "metadata": {},
   "outputs": [],
   "source": [
    "t = torch.linspace(0,60, 6000)\n",
    "sde = SDE()\n",
    "\n",
    "y = sdeint(sde, torch.tensor([[9.,4.]]).repeat(1,1) + torch.randn(1,2)*0.5, t)"
   ]
  },
  {
   "cell_type": "code",
   "execution_count": null,
   "metadata": {},
   "outputs": [],
   "source": [
    "%matplotlib inline\n",
    "plt.figure(figsize=(60,5))\n",
    "plt.plot(t,y[...,0].squeeze().detach(), color=\"C0\", lw=3)\n",
    "plt.plot(t,y[...,1].squeeze().detach(), color=\"C1\", lw=3)\n",
    "plt.axis(\"off\")\n",
    "plt.ylim()"
   ]
  },
  {
   "cell_type": "code",
   "execution_count": null,
   "metadata": {},
   "outputs": [],
   "source": []
  }
 ],
 "metadata": {
  "interpreter": {
   "hash": "19d1d53a962d236aa061289c2ac16dc8e6d9648c89fe79f459ae9a3493bc67b4"
  },
  "kernelspec": {
   "display_name": "Python 3 (ipykernel)",
   "language": "python",
   "name": "python3"
  },
  "language_info": {
   "codemirror_mode": {
    "name": "ipython",
    "version": 3
   },
   "file_extension": ".py",
   "mimetype": "text/x-python",
   "name": "python",
   "nbconvert_exporter": "python",
   "pygments_lexer": "ipython3",
   "version": "3.9.5"
  }
 },
 "nbformat": 4,
 "nbformat_minor": 2
}
