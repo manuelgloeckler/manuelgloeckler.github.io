{
 "cells": [
  {
   "cell_type": "code",
   "execution_count": null,
   "metadata": {},
   "outputs": [],
   "source": []
  },
  {
   "cell_type": "markdown",
   "metadata": {},
   "source": [
    "Conjugate inference: MINMAX Bernoulli\n",
    "\n",
    "Consider the conjugate model\n",
    "\n",
    "$$ x|\\theta \\sim Ber(\\theta) \\quad \\theta \\sim Beta(\\theta; \\alpha, \\beta)$$\n",
    "\n",
    "Then the posterior for a single observation is given by\n",
    "\n",
    "$$ \\theta|x \\sim Beta(\\theta; \\alpha + x, \\beta + 1 - x) $$\n",
    "\n",
    "Let's assume we want to do SBI in this model. We have a parameteric model $p \\sim q(\\theta|x) = Beta(\\theta; f(x)_1, f(x)_2)$. And we minimize\n",
    "\n",
    "$$ f^* = \\argmin_f \\mathbb{E}_{p(x,\\theta)}[-\\log q(\\theta|x)] $$"
   ]
  },
  {
   "cell_type": "markdown",
   "metadata": {},
   "source": [
    "# Conjugate inference: MINMAX Inference\n",
    "\n",
    "Let's consider a case where the posterior is conjugate i.e.\n",
    "\n",
    "$$ y \\sim \\mathcal{N}(y;x^T w, \\sigma^2I) \\text{ with } w \\sim \\mathcal{N}(w;0, I)$$\n",
    "\n",
    "Then the posterior is given by\n",
    "\n",
    "$$ w | y \\sim \\mathcal{N}(w; (I + \\sigma^{-2}x^T x)^{-1}(\\sigma^{-2}xy) , (I + \\sigma^{-2}x^T x)^{-1})$$\n",
    "\n",
    "Let's consider it differently. Let's consider instead the variational problem for $q(w|y) = \\mathcal{N}(w; \\mu(y), \\Sigma(y))$ we obtain\n",
    "\n",
    "$$ q^* = \\argmin_q D_{KL}(p(w|y)|| q(w|y)) = \\argmin_q \\mathbb{E}_{p(w|y)} \\left[ -\\log q(w|y) \\right]$$\n",
    "\n",
    "then "
   ]
  }
 ],
 "metadata": {
  "language_info": {
   "name": "python"
  },
  "orig_nbformat": 4
 },
 "nbformat": 4,
 "nbformat_minor": 2
}
